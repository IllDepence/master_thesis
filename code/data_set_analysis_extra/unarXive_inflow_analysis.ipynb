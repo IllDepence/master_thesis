{
 "cells": [
  {
   "cell_type": "markdown",
   "metadata": {},
   "source": [
    "## Prepare refs.db data"
   ]
  },
  {
   "cell_type": "code",
   "execution_count": 1,
   "metadata": {},
   "outputs": [
    {
     "name": "stdout",
     "output_type": "stream",
     "text": [
      "query 1\n",
      "query 2\n",
      "query 3\n",
      "done\n"
     ]
    }
   ],
   "source": [
    "from sqlalchemy import create_engine\n",
    "\n",
    "db_uri = 'sqlite:///arxiv_v2.1_refs.db'\n",
    "db_engine = create_engine(db_uri)\n",
    "\n",
    "q_citing_aids = 'select distinct in_doc from bibitem'\n",
    "q_cited_mids = 'select distinct mag_id from bibitemmagidmap'\n",
    "q_refs_matched = ('select bibitem.uuid, mag_id, in_doc'\n",
    "                  ' from bibitemmagidmap join bibitem'\n",
    "                  ' on bibitemmagidmap.uuid = bibitem.uuid')\n",
    "\n",
    "print('query 1')\n",
    "citing_aids = db_engine.execute(q_citing_aids).fetchall()\n",
    "print('query 2')\n",
    "cited_mids = db_engine.execute(q_cited_mids).fetchall()\n",
    "print('query 3')\n",
    "refs_matched = db_engine.execute(q_refs_matched).fetchall()\n",
    "print('done')"
   ]
  },
  {
   "cell_type": "markdown",
   "metadata": {},
   "source": [
    "## Prepare arXiv ID → FoS mapping"
   ]
  },
  {
   "cell_type": "code",
   "execution_count": 36,
   "metadata": {},
   "outputs": [
    {
     "name": "stdout",
     "output_type": "stream",
     "text": [
      "query 1\n",
      "done\n"
     ]
    }
   ],
   "source": [
    "db_uri_fos = 'sqlite:///aid_fos_subj.db'\n",
    "db_engine_fos = create_engine(db_uri_fos)\n",
    "\n",
    "q_aid_cat_subj = 'select aid, fos, subj from paper'\n",
    "\n",
    "print('query 1')\n",
    "aid_cat_subj = db_engine_fos.execute(q_aid_cat_subj).fetchall()\n",
    "\n",
    "aid_fos_map = {}\n",
    "\n",
    "for tup in aid_cat_subj:\n",
    "        aid = tup[0].replace('/', '')\n",
    "        cat = tup[1]\n",
    "        subj = tup[2]\n",
    "        aid_fos_map[aid] = [cat, subj]\n",
    "\n",
    "print('done')"
   ]
  },
  {
   "cell_type": "markdown",
   "metadata": {},
   "source": [
    "## Prepare MAG ID ↔ arXiv ID mappings"
   ]
  },
  {
   "cell_type": "code",
   "execution_count": 11,
   "metadata": {},
   "outputs": [
    {
     "name": "stdout",
     "output_type": "stream",
     "text": [
      "done\n"
     ]
    }
   ],
   "source": [
    "import csv\n",
    "\n",
    "mid_aid_map = {}\n",
    "aid_mid_map = {}\n",
    "\n",
    "with open('mag_id_2_arxiv_id.csv') as f:\n",
    "    csv_reader = csv.reader(f, delimiter=',')\n",
    "    for row in csv_reader:\n",
    "        mid = row[0]\n",
    "        aid = row[3]\n",
    "        mid_aid_map[mid] = aid\n",
    "        aid_mid_map[aid] = mid\n",
    "        \n",
    "print('done')"
   ]
  },
  {
   "cell_type": "markdown",
   "metadata": {},
   "source": [
    "## Analyze"
   ]
  },
  {
   "cell_type": "code",
   "execution_count": 19,
   "metadata": {},
   "outputs": [
    {
     "name": "stdout",
     "output_type": "stream",
     "text": [
      "Cited documents:\n",
      "total: 2820381\n",
      "in arXiv: 741402 (0.26)\n"
     ]
    }
   ],
   "source": [
    "cited_total = 0\n",
    "cited_in_arxiv = 0\n",
    "for tup in cited_mids:\n",
    "    mid = tup[0]\n",
    "    aid = mid_aid_map.get(mid)\n",
    "    if aid:\n",
    "        cited_in_arxiv += 1\n",
    "    cited_total += 1\n",
    "\n",
    "print('Cited documents:')\n",
    "print('total: {}'.format(cited_total))\n",
    "print('in arXiv: {} ({:.2f})'.format(cited_in_arxiv, cited_in_arxiv/cited_total))"
   ]
  },
  {
   "cell_type": "markdown",
   "metadata": {},
   "source": [
    "#### Cited documents:\n",
    "```\n",
    "total: 2820381\n",
    "in arXiv: 741402 (0.26)\n",
    "```"
   ]
  },
  {
   "cell_type": "code",
   "execution_count": 42,
   "metadata": {},
   "outputs": [
    {
     "name": "stdout",
     "output_type": "stream",
     "text": [
      "References:\n",
      "total: 16723705\n",
      "to docs in arXiv: 7181576 (0.43)\n",
      "\n",
      "math: 1015690 (0.14)\n",
      "cs: 618217 (0.09)\n",
      "physics: 5456684 (0.77)\n",
      "q-bio: 3847 (0.00)\n",
      "stat: 6209 (0.00)\n",
      "eess: 1343 (0.00)\n",
      "q-fin: 426 (0.00)\n",
      "econ: 367 (0.00)\n",
      "\n",
      "(no arxiv metadata: 78793 (0.01))\n"
     ]
    }
   ],
   "source": [
    "refs_total = 0\n",
    "refs_to_arxiv = 0\n",
    "refs_to_arxiv_by_fos = {}\n",
    "no_arxiv_metadata = 0\n",
    "fos_total = 0\n",
    "for tup in refs_matched:\n",
    "    mid = tup[1]\n",
    "    aid = mid_aid_map.get(mid)\n",
    "    if aid:\n",
    "        refs_to_arxiv += 1\n",
    "        fos_tup = aid_fos_map.get(aid)\n",
    "        if not fos_tup:\n",
    "            no_arxiv_metadata += 1\n",
    "            continue\n",
    "        # fos = fos_tup[1]  # use subject (fine grained)\n",
    "        fos = fos_tup[0]  # use category (coarse)\n",
    "        fos = fos.split(':')[0]  # even more coarse\n",
    "        if fos not in refs_to_arxiv_by_fos:\n",
    "            refs_to_arxiv_by_fos[fos] = 0\n",
    "        refs_to_arxiv_by_fos[fos] += 1\n",
    "        fos_total += 1\n",
    "    refs_total += 1\n",
    "\n",
    "print('References:')\n",
    "print('total: {}'.format(refs_total))\n",
    "print('to arXiv: {} ({:.2f})'.format(refs_to_arxiv, refs_to_arxiv/refs_total))\n",
    "print('')\n",
    "for fos, count in refs_to_arxiv_by_fos.items():\n",
    "    print('{}: {} ({:.2f})'.format(fos, count, count/fos_total))\n",
    "print('')\n",
    "print('(no arxiv metadata: {} ({:.2f}))'.format(no_arxiv_metadata, no_arxiv_metadata/refs_to_arxiv))\n",
    "    "
   ]
  },
  {
   "cell_type": "markdown",
   "metadata": {},
   "source": [
    "#### References:\n",
    "```\n",
    "total: 16723705\n",
    "to arXiv: 7181576 (0.43)\n",
    "```\n",
    "\n",
    "##### by Fos:\n",
    "```\n",
    "math: 1015690 (0.14)\n",
    "cs: 618217 (0.09)\n",
    "physics: 5456684 (0.77)\n",
    "q-bio: 3847 (0.00)\n",
    "stat: 6209 (0.00)\n",
    "eess: 1343 (0.00)\n",
    "q-fin: 426 (0.00)\n",
    "econ: 367 (0.00)\n",
    "\n",
    "(no arxiv metadata: 78793 (0.01))\n",
    "```"
   ]
  },
  {
   "cell_type": "code",
   "execution_count": 26,
   "metadata": {},
   "outputs": [
    {
     "name": "stdout",
     "output_type": "stream",
     "text": [
      "Citing documents:\n",
      "total: 1192097\n",
      "to docs in arXiv: 1192097 (1.00)\n"
     ]
    }
   ],
   "source": [
    "citing_total = 0\n",
    "citing_with_mid = 0\n",
    "for tup in citing_aids:\n",
    "    mid = aid_mid_map.get(aid)\n",
    "    if mid:\n",
    "        citing_with_mid += 1\n",
    "    citing_total += 1\n",
    "\n",
    "print('Citing documents:')\n",
    "print('total: {}'.format(citing_total))\n",
    "print('to docs in arXiv: {} ({:.2f})'.format(citing_with_mid, citing_with_mid/citing_total))"
   ]
  },
  {
   "cell_type": "markdown",
   "metadata": {},
   "source": [
    "#### Citing documents:\n",
    "```\n",
    "total: 1192097\n",
    "to docs in arXiv: 1192097 (1.00)\n",
    "```"
   ]
  }
 ],
 "metadata": {
  "kernelspec": {
   "display_name": "Python 3",
   "language": "python",
   "name": "python3"
  },
  "language_info": {
   "codemirror_mode": {
    "name": "ipython",
    "version": 3
   },
   "file_extension": ".py",
   "mimetype": "text/x-python",
   "name": "python",
   "nbconvert_exporter": "python",
   "pygments_lexer": "ipython3",
   "version": "3.6.8"
  }
 },
 "nbformat": 4,
 "nbformat_minor": 2
}
